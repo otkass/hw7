{
 "cells": [
  {
   "cell_type": "markdown",
   "id": "411c578b",
   "metadata": {},
   "source": [
    "$$\\Huge \\text{Memorandum}$$\n",
    "\n",
    "**To**: Prof. Ellen M. Rathje\n",
    "\n",
    "**From**: Omar Abukassab\n",
    "\n",
    "**Date**: 03/26/2025\n",
    "\n",
    "**Subject**: Stability Assessment of a slope using the Ordinary method of slices and Bishop’s simplified procedure.\n",
    "\n",
    "This memorandum provides a stability evaluation of a slope (Figure 1) utilizing the ordinary method of slices (OMS) and Bishop's simplified method. The slope was divided into 11 slices, and the factor of safety (FS) was computed using both approaches. The FS values obtained were 1.35 for OMS and 1.5 for Bishop's method. The findings indicate that the OMS approach yields a more conservative FS.\n",
    "\n",
    "The total and effective normal stresses along the slip surface were plotted for both OMS and Bishop's method (Figures 2 and 3). The normal stresses calculated using Bishop's method were found to be higher than those obtained from the OMS."
   ]
  },
  {
   "cell_type": "markdown",
   "id": "076b845b",
   "metadata": {},
   "source": [
    "### Figure 1. Slope and circular slip surface     ###\n",
    "\n",
    "| ![Figure 1. Slope and circular slip surface](https://raw.githubusercontent.com/otkass/hw7/main/Figure_1.png) |\n",
    "|:--:|"
   ]
  },
  {
   "cell_type": "markdown",
   "id": "47bfb547",
   "metadata": {},
   "source": [
    "$$\\Huge\\text {Section 1: Ordinary Method of Slices (OMS)}$$"
   ]
  },
  {
   "cell_type": "markdown",
   "id": "b10d0b9d",
   "metadata": {},
   "source": [
    "#### Calculation of factor of safety is provided in Table (1). The calculated **FS = 1.356**"
   ]
  },
  {
   "cell_type": "code",
   "execution_count": 28,
   "id": "17546b8b-1d3a-47b8-88b3-b69111b2cbc9",
   "metadata": {},
   "outputs": [],
   "source": [
    "import pandas as pd\n",
    "import numpy as np\n",
    "# delta_x\n",
    "del_x = np.array([10.667, 14.725, 10, 10, 10, 10, 10, 10, 10, 10, 19.839])\n",
    "deltax=pd.DataFrame(del_x)\n",
    "deltax.rename(columns={0:'delta_x'},inplace=True)"
   ]
  },
  {
   "cell_type": "code",
   "execution_count": 29,
   "id": "5cfdfa77-c610-407a-9eb8-ac434694267c",
   "metadata": {},
   "outputs": [],
   "source": [
    "# height at middle of slice (ft)\n",
    "h =  np.array([14.289, 32.853, 41.21, 42.206, 41.385, 39.044, 35.33, 30.339, 24.044, 16.385, 7.01])\n",
    "deltah=pd.DataFrame(h)\n",
    "deltah.rename(columns={0:'h (ft)'},inplace=True)"
   ]
  },
  {
   "cell_type": "code",
   "execution_count": 30,
   "id": "ff2145ab-995b-4e4a-b115-56d2d6d2490e",
   "metadata": {},
   "outputs": [],
   "source": [
    "# Weight of slice\n",
    "h1 = np.array([14.289, 32.853, 37.500, 32.500, 27.500, 22.500, 17.500, 12.500, 7.500, 2.5, 0.0])\n",
    "h2 = np.array([0.0, 0.0, 3.767, 9.707, 13.885, 16.544, 17.839, 17.839, 16.544, 13.885, 7.011])\n",
    "\n",
    "gamma_1 = 125\n",
    "gamma_2 = 110\n",
    "W = ((h1*gamma_1) + (h2*gamma_2))*del_x\n",
    "deltaW=pd.DataFrame(h)\n",
    "deltaW.rename(columns={0:'W'},inplace=True)"
   ]
  },
  {
   "cell_type": "code",
   "execution_count": 31,
   "id": "7a86cbdd-af3a-4ae5-b2c5-c0d2b31f7d9d",
   "metadata": {},
   "outputs": [],
   "source": [
    "# alpha measured from line tangent to arc\n",
    "alpha = np.array([63, 48, 35, 27, 19, 9, 3, -3, -10, -17, -30])\n",
    "deltaalpha=pd.DataFrame(alpha)\n",
    "deltaalpha.rename(columns={0:'alpha'},inplace=True)"
   ]
  },
  {
   "cell_type": "code",
   "execution_count": 32,
   "id": "7f750152-8699-4bec-8559-30e41611cd9b",
   "metadata": {},
   "outputs": [],
   "source": [
    "# W * sin(alpha)\n",
    "W_sina = W * np.sin(np.radians(alpha))\n",
    "deltaW_sina=pd.DataFrame(W_sina)\n",
    "deltaW_sina.rename(columns={0:'W sin(alpha)'},inplace=True)"
   ]
  },
  {
   "cell_type": "code",
   "execution_count": 33,
   "id": "62151267-8c7b-40a3-9ccb-74fef7f4b38d",
   "metadata": {},
   "outputs": [],
   "source": [
    "# W * cos(alpha)\n",
    "W_cosa = W * np.cos(np.radians(alpha)) \n",
    "deltaW_cosa=pd.DataFrame(W_cosa)\n",
    "deltaW_cosa.rename(columns={0:'W cos(alpha)'},inplace=True)"
   ]
  },
  {
   "cell_type": "code",
   "execution_count": 34,
   "id": "3c0b0c89-9b71-4405-b0f2-07b5814bfddb",
   "metadata": {},
   "outputs": [],
   "source": [
    "# delta l\n",
    "del_l = del_x / np.cos(np.radians(alpha))\n",
    "deltadel_l=pd.DataFrame(del_l)\n",
    "deltadel_l.rename(columns={0:'delta l'},inplace=True)"
   ]
  },
  {
   "cell_type": "code",
   "execution_count": 35,
   "id": "babcc621-7cdd-4b9a-9fcb-3c9cad1e290a",
   "metadata": {},
   "outputs": [],
   "source": [
    "# u pore pressure\n",
    "hp = np.array([0, 8.638, 18.114, 22.83, 25.76, 27.17, 26.59, 24.09, 20.29, 15.14, 7.11])\n",
    "gamma_w = 62.43\n",
    "u = gamma_w * hp\n",
    "deltau=pd.DataFrame(u)\n",
    "deltau.rename(columns={0:'u'},inplace=True)"
   ]
  },
  {
   "cell_type": "code",
   "execution_count": 36,
   "id": "0c4ef71d-b391-4cfe-af1d-f2cc31436da3",
   "metadata": {},
   "outputs": [],
   "source": [
    "# u * delta l * cos(alpha)^2\n",
    "column9 = u * del_l * np.cos(np.radians(alpha)) * np.cos(np.radians(alpha))\n",
    "deltacolumn9=pd.DataFrame(column9)\n",
    "deltacolumn9.rename(columns={0:'u * delta_l * cos(alpha)^2'},inplace=True)"
   ]
  },
  {
   "cell_type": "code",
   "execution_count": 37,
   "id": "e5e66946-3cb8-4d36-a8cf-f216c0d69e0c",
   "metadata": {},
   "outputs": [],
   "source": [
    "# Friction angle'\n",
    "phi = np.array([25, 25, 30, 30, 30, 30, 30, 30, 30, 30, 30])\n",
    "deltaphi=pd.DataFrame(phi)\n",
    "deltaphi.rename(columns={0:'phi'},inplace=True)"
   ]
  },
  {
   "cell_type": "code",
   "execution_count": 38,
   "id": "eeaf5cf8-5da7-4881-ab12-68d5c5883085",
   "metadata": {},
   "outputs": [],
   "source": [
    "# ((W * cos(alpha)) - (u * del_l * cos(alpha)^^2)) * tan(phi')\n",
    "column11 = (W_cosa - column9) * np.tan(np.radians(phi))\n",
    "deltacolumn11=pd.DataFrame(column11)\n",
    "deltacolumn11.rename(columns={0:'((W * cos(alpha)) - (u * delta l * cos(alpha)^2)) * tan(phi)'},inplace=True)"
   ]
  },
  {
   "cell_type": "code",
   "execution_count": 39,
   "id": "1f99ae94-1485-4c53-acc7-16857a4686c3",
   "metadata": {},
   "outputs": [],
   "source": [
    "# c'\n",
    "c = np.array([600, 600, 0, 0, 0, 0, 0, 0, 0, 0, 0])\n",
    "deltac=pd.DataFrame(c)\n",
    "deltac.rename(columns={0:'c'},inplace=True)"
   ]
  },
  {
   "cell_type": "code",
   "execution_count": 40,
   "id": "7893612d-20fa-41e7-bf19-33051f4d951e",
   "metadata": {},
   "outputs": [],
   "source": [
    "# c' * del_l\n",
    "column13 = c * del_l\n",
    "deltacolumn13=pd.DataFrame(column13)\n",
    "deltacolumn13.rename(columns={0:'c * delta l'},inplace=True)"
   ]
  },
  {
   "cell_type": "code",
   "execution_count": 41,
   "id": "55c7d203-6a23-434d-a868-ff46f539550e",
   "metadata": {},
   "outputs": [
    {
     "data": {
      "text/plain": [
       "1.3564428868675316"
      ]
     },
     "execution_count": 41,
     "metadata": {},
     "output_type": "execute_result"
    }
   ],
   "source": [
    "# Factor of safety\n",
    "f_oms = (np.sum(column11)+np.sum(column13))/np.sum(W_sina)\n",
    "f_oms"
   ]
  },
  {
   "cell_type": "markdown",
   "id": "0c6f7af3",
   "metadata": {},
   "source": [
    "### Table1: FS calculation using OMS ###\n",
    "|![Table1: FS calculation using OMS](https://raw.githubusercontent.com/otkass/hw7/main/Table_1.png)|\n",
    "|:--:|\n"
   ]
  },
  {
   "cell_type": "markdown",
   "id": "35baecf3",
   "metadata": {},
   "source": [
    "$$\\Huge\\text {Section 2: Bishop's simplified method}$$"
   ]
  },
  {
   "cell_type": "markdown",
   "id": "be96c675",
   "metadata": {},
   "source": [
    "#### Calculation of factor of safety is provided in Table (2). Five iterations were required to calculate the FS. The final FS = 1.508"
   ]
  },
  {
   "cell_type": "code",
   "execution_count": 42,
   "id": "0b8b147d-4b1f-4033-96ca-cd0cb2d26841",
   "metadata": {},
   "outputs": [],
   "source": [
    "# c' * delta x\n",
    "c_del_x = c * del_x\n",
    "deltac_del_x=pd.DataFrame(c_del_x)\n",
    "deltac_del_x.rename(columns={0:'c * delta x'},inplace=True)"
   ]
  },
  {
   "cell_type": "code",
   "execution_count": 43,
   "id": "031ff570-ad40-4821-8831-9bf7cd942544",
   "metadata": {},
   "outputs": [],
   "source": [
    "# u * delta x\n",
    "u_del_x = u * del_x\n",
    "deltau_del_x=pd.DataFrame(u_del_x)\n",
    "deltau_del_x.rename(columns={0:'u * delta x'},inplace=True)"
   ]
  },
  {
   "cell_type": "code",
   "execution_count": 44,
   "id": "5d7fcfdf-cfbd-4724-81a9-1101aa88b74c",
   "metadata": {},
   "outputs": [],
   "source": [
    "# col 4 - col 9\n",
    "column_10 = W - u_del_x\n",
    "deltacolumn_10=pd.DataFrame(column_10)\n",
    "deltacolumn_10.rename(columns={0:'column_10'},inplace=True)"
   ]
  },
  {
   "cell_type": "code",
   "execution_count": 45,
   "id": "34916614-fc26-4532-badb-94030492e578",
   "metadata": {},
   "outputs": [],
   "source": [
    "# col 10 * tan(phi')\n",
    "column_12 = column_10 * np.tan(np.radians(phi))\n",
    "deltacolumn_12=pd.DataFrame(column_12)\n",
    "deltacolumn_12.rename(columns={0:'column_12'},inplace=True)"
   ]
  },
  {
   "cell_type": "code",
   "execution_count": 46,
   "id": "6a0c202c-4193-4f51-9f01-92df69fc1dbd",
   "metadata": {},
   "outputs": [],
   "source": [
    "# (c * delta x) + col 12\n",
    "column_13 = c_del_x + column_12\n",
    "deltacolumn_13=pd.DataFrame(column_13)\n",
    "deltacolumn_13.rename(columns={0:'column_13'},inplace=True)"
   ]
  },
  {
   "cell_type": "code",
   "execution_count": 47,
   "id": "05234b6c-ccec-49a0-bbee-884e39d8e4db",
   "metadata": {},
   "outputs": [],
   "source": [
    "# m alpha\n",
    "f_trial = f_oms\n",
    "m_alpha = (np.cos(np.radians(alpha))) + ((np.sin(np.radians(alpha)) * np.tan(np.radians(phi))) / f_trial)\n",
    "deltam_alpha=pd.DataFrame(m_alpha)\n",
    "deltam_alpha.rename(columns={0:'m alpha'},inplace=True)"
   ]
  },
  {
   "cell_type": "code",
   "execution_count": 48,
   "id": "42b29a99-7a47-41ed-95b1-ce027da2e1d8",
   "metadata": {},
   "outputs": [],
   "source": [
    "# col 13 / m_alpha\n",
    "column_15 = column_13 / m_alpha\n",
    "deltacolumn_15=pd.DataFrame(column_15)\n",
    "deltacolumn_15.rename(columns={0:'column_15'},inplace=True)"
   ]
  },
  {
   "cell_type": "code",
   "execution_count": 49,
   "id": "317191b9-7ac2-46d4-84f5-1980e0cee10f",
   "metadata": {},
   "outputs": [
    {
     "data": {
      "text/plain": [
       "1.4854006104698478"
      ]
     },
     "execution_count": 49,
     "metadata": {},
     "output_type": "execute_result"
    }
   ],
   "source": [
    "# F trial 1\n",
    "delta_error = 1e-3\n",
    "f_res = np.sum(column_15) / np.sum(W_sina)\n",
    "itr = 1\n",
    "f_res\n"
   ]
  },
  {
   "cell_type": "code",
   "execution_count": 50,
   "id": "3728201b-7239-4f5c-bedc-9459ca823a80",
   "metadata": {},
   "outputs": [
    {
     "name": "stdout",
     "output_type": "stream",
     "text": [
      "F =  1.5049370594361668 , iter = 1\n",
      "F =  1.507696049013812 , iter = 2\n",
      "F =  1.5080817056392803 , iter = 3\n",
      "total_iterations = 4\n"
     ]
    }
   ],
   "source": [
    "while abs(f_res - f_trial) > delta_error:\n",
    "    f_trial = f_res\n",
    "    m_alpha = (np.cos(np.radians(alpha))) + ((np.sin(np.radians(alpha)) * np.tan(np.radians(phi))) / f_trial)\n",
    "    column_15 = column_13 / m_alpha\n",
    "    f_res = np.sum(column_15) / np.sum(W_sina)\n",
    "    print('F = ',f_res,', iter =', itr)\n",
    "    itr += 1\n",
    "    \n",
    "print('total_iterations =', itr)\n",
    "    "
   ]
  },
  {
   "cell_type": "markdown",
   "id": "f4aae799",
   "metadata": {},
   "source": [
    "### Table2: FS calculation using Bishop’s simplified method ###\n",
    "|![Table 2: FS calculation using Bishop’s simplified method](https://raw.githubusercontent.com/otkass/hw7/main/Table_2.png)|\n",
    "|:--:|\n"
   ]
  },
  {
   "cell_type": "markdown",
   "id": "e6c15f79",
   "metadata": {},
   "source": [
    "$$\\Huge\\text {Section 3: Total and effective normal stresses}$$"
   ]
  },
  {
   "cell_type": "code",
   "execution_count": 51,
   "id": "76a029af",
   "metadata": {},
   "outputs": [],
   "source": [
    "pore_pressure_force = u * del_l * np.cos(np.radians(alpha)) * np.cos(np.radians(alpha))\n",
    "Total_stress_oms = W_cosa / del_l\n",
    "Effective_stress_oms = (W_cosa - pore_pressure_force ) / del_l"
   ]
  },
  {
   "cell_type": "code",
   "execution_count": 52,
   "id": "098c0687",
   "metadata": {},
   "outputs": [],
   "source": [
    "m_alpha_final= np.cos(np.radians(alpha)) + (np.sin(np.radians(alpha)) * np.tan(np.radians(phi))) / 1.508\n"
   ]
  },
  {
   "cell_type": "code",
   "execution_count": 53,
   "id": "d9662958",
   "metadata": {},
   "outputs": [],
   "source": [
    "f_final=1.508\n",
    "numerator = W - ((1/f_final) * (c*del_l - (u * del_x * np.tan(np.radians(phi))))*np.sin(np.radians(alpha)))\n",
    "denominator = m_alpha_final\n",
    "Normal_force_bishop = numerator / denominator\n",
    "Total_stress_bishop = Normal_force_bishop / del_l\n",
    "Effective_stress_bishop = (Normal_force_bishop - (u * del_l)) / del_l\n"
   ]
  },
  {
   "cell_type": "markdown",
   "id": "13f3e959",
   "metadata": {},
   "source": [
    "### Figure 2: Total normal stress along slip surface\n",
    "| ![Figure 2. Total normal stress along slip surface](https://raw.githubusercontent.com/otkass/hw7/main/Total_stress.png) |\n",
    "|:--:|"
   ]
  },
  {
   "cell_type": "markdown",
   "id": "63b19f07",
   "metadata": {},
   "source": [
    "### Figure 3: Effective normal stress along slip surface\n",
    "| ![Figure 3. Effective normal stress along slip surface](https://raw.githubusercontent.com/otkass/hw7/main/Effective_stress.png) |\n",
    "|:--:|"
   ]
  }
 ],
 "metadata": {
  "kernelspec": {
   "display_name": "Python 3 (ipykernel)",
   "language": "python",
   "name": "python3"
  },
  "language_info": {
   "codemirror_mode": {
    "name": "ipython",
    "version": 3
   },
   "file_extension": ".py",
   "mimetype": "text/x-python",
   "name": "python",
   "nbconvert_exporter": "python",
   "pygments_lexer": "ipython3",
   "version": "3.11.5"
  }
 },
 "nbformat": 4,
 "nbformat_minor": 5
}
